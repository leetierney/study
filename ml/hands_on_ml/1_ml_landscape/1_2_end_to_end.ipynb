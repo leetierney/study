{
 "cells": [
  {
   "cell_type": "markdown",
   "id": "cabc87bb-15ed-4c3f-bbe2-4fe2d1af3adc",
   "metadata": {},
   "source": [
    "<h1>Chapter 2: End-to-End ML Project</h1>"
   ]
  },
  {
   "cell_type": "markdown",
   "id": "8479016d-c614-424e-866a-12abbcd08016",
   "metadata": {},
   "source": [
    "<h2>2.0 Steps in an ML Project</h2>\n",
    "<ol>\n",
    "    <li>Look at the big picture.</li>\n",
    "    <li>Get the data.</li>\n",
    "    <li>Discover and visualise the data to gain insights.</li>\n",
    "    <li>Prepare the data for ML algorithms.</li>\n",
    "    <li>Select a model and train it.</li>\n",
    "    <li>Fine-tune the model.</li>\n",
    "    <li>Present the solution.</li>\n",
    "    <li>Launch, monitor, and maintain the system.</li>\n",
    "</ol>\n"
   ]
  },
  {
   "cell_type": "markdown",
   "id": "a47855b3-b0e0-42b3-abec-8be58fc2c395",
   "metadata": {},
   "source": [
    "<h2>2.1 Look at the Big Picture</h2>"
   ]
  }
 ],
 "metadata": {
  "kernelspec": {
   "display_name": "Python 3 (ipykernel)",
   "language": "python",
   "name": "python3"
  },
  "language_info": {
   "codemirror_mode": {
    "name": "ipython",
    "version": 3
   },
   "file_extension": ".py",
   "mimetype": "text/x-python",
   "name": "python",
   "nbconvert_exporter": "python",
   "pygments_lexer": "ipython3",
   "version": "3.10.11"
  }
 },
 "nbformat": 4,
 "nbformat_minor": 5
}
