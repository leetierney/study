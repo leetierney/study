{
 "cells": [
  {
   "cell_type": "markdown",
   "metadata": {},
   "source": [
    "<h4>1. How would you define Machine Learning?</h4>\n",
    "<p>Machine Learning is a subfield of Artificial Intelligence (AI) that uses algorithms trained on data sets to create self-learning models that are capable of predicting outcomes and classifying information, without human intervention. </p>"
   ]
  },
  {
   "cell_type": "markdown",
   "metadata": {},
   "source": [
    "<h4>2. Can you name four types of problems where ML shines?</h4>\n",
    "<ol>\n",
    "    <li>Recommendation engines (e.g. Amazon, Spotify etc). </li>\n",
    "    <li>Speech recognition software.</li>\n",
    "    <li>Spam detection.</li>\n",
    "    <li>Fraud detection.</li>\n",
    "</ol>"
   ]
  },
  {
   "cell_type": "markdown",
   "metadata": {},
   "source": [
    "<h4>3. What is a labeled training set?</h4>\n",
    "<p>A labeled training set is a training set which contains the desired solution (the label) for each instance. </p>"
   ]
  },
  {
   "cell_type": "markdown",
   "metadata": {},
   "source": [
    "<h4>4. What are the two most common supervised tasks?</h4>\n",
    "<p>Regression and Classification</p>"
   ]
  },
  {
   "cell_type": "markdown",
   "metadata": {},
   "source": [
    "<h4>5. Can you name four common unspervised tasks?</h4>\n",
    "<p>Clustering, visualisation, dimensionality reduction, and association rule learning.</p>"
   ]
  },
  {
   "cell_type": "markdown",
   "metadata": {},
   "source": [
    "<h4>6. What types of ML algorithms would you use to allow a robot to walk in various unknown terrains?</h4>\n",
    "<p>Reinforcement Learning.</p>"
   ]
  },
  {
   "cell_type": "markdown",
   "metadata": {},
   "source": [
    "<h4>7. What type of algorithm would you use to segmeent your customers into multiple groups?</h4>\n",
    "<p>Clustering or classification, depending on if it is an unsupervised or supervised learning task. </p>"
   ]
  },
  {
   "cell_type": "markdown",
   "metadata": {},
   "source": [
    "<h4>8. Would you frame the problem of spam detection as a supervised learning problem or an unsupervised learning problem?</h4>\n",
    "<p>Supervised.</p>"
   ]
  },
  {
   "cell_type": "markdown",
   "metadata": {},
   "source": [
    "<h4>9. What is an online learning system?</h4>\n",
    "<p>A learning system which is continually learning based on a steady flow of new data. </p>"
   ]
  },
  {
   "cell_type": "markdown",
   "metadata": {},
   "source": [
    "<h4>10. What is out-of-core learning?</h4>\n",
    "<p>Out-of-core learning refers to ML algorithms working with data that cannot fit in a ssingle machine's memory, but can fit easily into some data storage, such as the local hard disk, or web repository. </p>"
   ]
  },
  {
   "cell_type": "markdown",
   "metadata": {},
   "source": [
    "<h4>11. What type of learning algorithm relies on a similarity measure to make predictions?</h4>\n",
    "<p>An instance-based learning system learns the training data by heart; then, when given a new instance, it uses a similarity measure to find the most similar learned instances and uses them to make predictions. </p>"
   ]
  },
  {
   "cell_type": "markdown",
   "metadata": {},
   "source": [
    "<h4>12. What is the difference between a model parameter and a learning algorithm hyperparameter?</h4>\n",
    "<ul>\n",
    "    <li>A model has one or more model parameters that determine what it will predict given a new instance (e.g. the slope of a linear model). A learning algorithm tries to find optimal values for these parameters such that the model generalises well to new instances. </li>\n",
    "    <li>A hyperparameter is a parameter of the learning algorithm itself, not of the model (e.g. the amount of regularisation to apply).</li>\n",
    "</ul>"
   ]
  },
  {
   "cell_type": "markdown",
   "metadata": {},
   "source": [
    "<h4>13. What do model-based learning algorithms search for? What is the most common strategy that they use to succeed? How do they make predictions?</h4>\n",
    "<ul>\n",
    "    <li>Model-based learning algorithms search for an optimal value for the model parameters such that the model will generalise well to new instances. </li>\n",
    "    <li>We usually train such systems by minimising a cost function that measures how bad the system is at making predictions on the training data, plus a penalty for model complexity if the model is regularised.</li>\n",
    "    <li>To make predictions, we feed the new instance's features into the model's prediction function, using the parameter values found by the learning algorithm.</li>\n",
    "</ul>"
   ]
  },
  {
   "cell_type": "markdown",
   "metadata": {},
   "source": [
    "<h4>14. Can you name four of the main challenges in ML?</h4>\n",
    "<ol>\n",
    "    <li>Lack of data</li>\n",
    "    <li>Poor data quality</li>\n",
    "    <li>Non-representative data</li>\n",
    "    <li>Uninformative features</li>\n",
    "</ol>"
   ]
  },
  {
   "cell_type": "markdown",
   "metadata": {},
   "source": [
    "<h4>15.If your model performs well on the training data but generalises poorly to new instances, what is happening? Can you name three possible solutions?</h4>\n",
    "<p>The model is likely overfitting the training data. Possible solutions include:</p>\n",
    "<ul>\n",
    "    <li>Getting more data.</li>\n",
    "    <li>Simplifying the model.</li>\n",
    "    <li>Reducing the noise in the training data.</li>\n",
    "</ul>"
   ]
  },
  {
   "cell_type": "markdown",
   "metadata": {},
   "source": [
    "<h4>16. What is a test set, and why would you want to use it?</h4>\n",
    "<p>A test set is used to estimate the generalisation error that a model will make on new instances, before the model is launched in production.</p>"
   ]
  },
  {
   "cell_type": "markdown",
   "metadata": {},
   "source": [
    "<h4>17. What is the purpose of a validation set?</h4>\n",
    "<p>A validation set is used to compare models. It makes it possible to select the best model and tune the hyperparameters.</p>"
   ]
  },
  {
   "cell_type": "markdown",
   "metadata": {},
   "source": [
    "<h4>18. What is the train-dev set, when do you need it, and how do you use it?</h4>\n",
    "<p>The train-dev set is used when there is a risk of a mismatch between the training data and the data used in the validation and test datasets. The train-dev set is part of the training set that's held out (the model isn't trained on it). The model is trained on the rest of the training set, and evaluated on both the train-dev set and the validation set. </p>"
   ]
  },
  {
   "cell_type": "markdown",
   "metadata": {},
   "source": [
    "<h4>19. What can go wrong if you tune hyperparameters using the test set?</h4>\n",
    "<p>If you tune hyperparameters using the test set, you risk overfitting the test set, and the generalisation error you measure will be optimistic. </p>"
   ]
  }
 ],
 "metadata": {
  "language_info": {
   "name": "python"
  }
 },
 "nbformat": 4,
 "nbformat_minor": 2
}
