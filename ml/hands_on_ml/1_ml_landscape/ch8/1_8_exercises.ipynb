{
 "cells": [
  {
   "cell_type": "markdown",
   "metadata": {},
   "source": [
    "<h4> 1. What are the main motivations for reducing a dataset's dimensionality? What are the main drawbacks?</h4>\n",
    "\n",
    "Motivations:\n",
    "<ul>\n",
    "    <li>To speed up a subsequent training algorithm.</li>\n",
    "    <li>To visualise the data and gain insights on the most important features.</li>\n",
    "    <li>To save space.</li>\n",
    "</ul>\n",
    "\n",
    "Drawbacks:\n",
    "<ul>\n",
    "    <li>Some information is lost, possibly degrading the performance of subsequent training algorithms.</li>\n",
    "    <li>It can be computationally intensive.</li>\n",
    "    <li>It adds some complexity to your ML pipelines.</li>\n",
    "    <li>Transformed features are often hard to interpret.</li>\n",
    "</ul>"
   ]
  },
  {
   "cell_type": "markdown",
   "metadata": {},
   "source": []
  }
 ],
 "metadata": {
  "language_info": {
   "name": "python"
  }
 },
 "nbformat": 4,
 "nbformat_minor": 2
}
